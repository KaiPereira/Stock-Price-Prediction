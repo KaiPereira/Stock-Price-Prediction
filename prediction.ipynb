{
 "cells": [
  {
   "cell_type": "code",
   "execution_count": 42,
   "metadata": {},
   "outputs": [
    {
     "name": "stdout",
     "output_type": "stream",
     "text": [
      "[1 1 1 ... 1 1 1]\n",
      "Accuracy: 0.367311853454664\n"
     ]
    }
   ],
   "source": [
    "from sklearn import model_selection\n",
    "from sklearn.ensemble import RandomForestClassifier\n",
    "import pandas as pd\n",
    "from sklearn.impute import SimpleImputer\n",
    "from sklearn import preprocessing\n",
    "import numpy as np\n",
    "import joblib\n",
    "from sklearn.metrics import accuracy_score\n",
    "\n",
    "\n",
    "dataset = pd.read_csv(\"./stockdata.csv\")\n",
    "dataset = dataset.sample(frac=0.05)\n",
    "\n",
    "prediction_dataset = pd.read_csv(\"./stock_prediction.csv\")\n",
    "prediction_dataset = prediction_dataset.sample(frac=0.3)\n",
    "\n",
    "\n",
    "# Dataset accuracy test\n",
    "# Create a new column in the dataset that represents the categorical target\n",
    "prediction_dataset[\"close_category\"] = np.where(prediction_dataset[\"close\"] > prediction_dataset[\"close\"].mean(), 1, 0)\n",
    "# Use the new column as the target variable\n",
    "target_accuracy = prediction_dataset[\"close_category\"]\n",
    "\n",
    "\n",
    "\n",
    "\n",
    "# Create a new column in the dataset that represents the categorical target\n",
    "dataset[\"close_category\"] = np.where(dataset[\"close\"] > dataset[\"close\"].mean(), 1, 0)\n",
    "# Use the new column as the target variable\n",
    "target = dataset[\"close_category\"]\n",
    "\n",
    "\n",
    "\n",
    "\n",
    "# What we train with\n",
    "category_variables = [\"open\", \"high\", \"low\", \"volume\"]\n",
    "data = dataset[category_variables]\n",
    "data = pd.get_dummies(data)\n",
    "my_imputer = SimpleImputer()\n",
    "data = my_imputer.fit_transform(data)\n",
    "\n",
    "\n",
    "# What we test with\n",
    "prediction_data = prediction_dataset[category_variables]\n",
    "prediction_data = pd.get_dummies(prediction_data)\n",
    "prediction_data = my_imputer.fit_transform(prediction_data)\n",
    "\n",
    "\n",
    "# Split the training data\n",
    "x_train, x_test, y_train, y_test = model_selection.train_test_split(data, target)\n",
    "\n",
    "\n",
    "# Model training and prediction\n",
    "model = RandomForestClassifier(n_estimators=100)\n",
    "model.fit(x_train, y_train)\n",
    "\n",
    "# Prediction\n",
    "prediction = model.predict(prediction_data)\n",
    "print(prediction)\n",
    "\n",
    "# Accuracy\n",
    "accuracy = accuracy_score(target_accuracy, prediction)\n",
    "print(\"Accuracy:\", accuracy)\n"
   ]
  }
 ],
 "metadata": {
  "kernelspec": {
   "display_name": "Python 3",
   "language": "python",
   "name": "python3"
  },
  "language_info": {
   "codemirror_mode": {
    "name": "ipython",
    "version": 3
   },
   "file_extension": ".py",
   "mimetype": "text/x-python",
   "name": "python",
   "nbconvert_exporter": "python",
   "pygments_lexer": "ipython3",
   "version": "3.10.4"
  },
  "orig_nbformat": 4,
  "vscode": {
   "interpreter": {
    "hash": "3ad933181bd8a04b432d3370b9dc3b0662ad032c4dfaa4e4f1596c548f763858"
   }
  }
 },
 "nbformat": 4,
 "nbformat_minor": 2
}
